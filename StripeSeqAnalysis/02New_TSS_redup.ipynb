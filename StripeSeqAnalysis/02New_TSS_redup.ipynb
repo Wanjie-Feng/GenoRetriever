{
 "cells": [
  {
   "cell_type": "code",
   "execution_count": null,
   "id": "1e783bcf",
   "metadata": {
    "vscode": {
     "languageId": "r"
    }
   },
   "outputs": [],
   "source": [
    "library(CAGEfightR)\n",
    "library(GenomicFeatures)\n",
    "library(diptest)\n",
    "setwd(\"./\")"
   ]
  },
  {
   "cell_type": "code",
   "execution_count": 7,
   "id": "7747a420",
   "metadata": {
    "vscode": {
     "languageId": "r"
    }
   },
   "outputs": [],
   "source": [
    "# bw_plus <- BigWigFileList(c(\"./Flower/PI46.Flower.plus.bw\",\"./Leaf/PI46.Leaf.plus.bw\",\n",
    "#                             \"./Nodule/PI46.Nodule.plus.bw\",\"./Pod/PI46.Pod.plus.bw\",\n",
    "#                             \"./Root/PI46.Root.plus.bw\",\"./Seed/PI46.Seed.plus.bw\",\n",
    "#                             \"./Shoot/PI46.Shoot.plus.bw\",\"./Stemtip/PI46.Stemtip.plus.bw\"))\n",
    "\n",
    "# bw_minus <- BigWigFileList(c(\"./Flower/PI46.Flower.minus.bw\",\"./Leaf/PI46.Leaf.minus.bw\",\n",
    "#                             \"./Nodule/PI46.Nodule.minus.bw\",\"./Pod/PI46.Pod.minus.bw\",\n",
    "#                             \"./Root/PI46.Root.minus.bw\",\"./Seed/PI46.Seed.minus.bw\",\n",
    "#                             \"./Shoot/PI46.Shoot.minus.bw\",\"./Stemtip/PI46.Stemtip.minus.bw\"))\n",
    "\n",
    "# names(bw_plus) <- c(\"Flower\",\"Leaf\",\n",
    "#                     \"Nodule\",\"Pod\",\n",
    "#                     \"Root\",\"Seed\",\n",
    "#                     \"Shoot\",\"Stemtip\")\n",
    "\n",
    "# names(bw_minus) <-  c(\"Flower\",\"Leaf\",\n",
    "#                       \"Nodule\",\"Pod\",\n",
    "#                       \"Root\",\"Seed\",\n",
    "#                       \"Shoot\",\"Stemtip\")"
   ]
  },
  {
   "cell_type": "code",
   "execution_count": 2,
   "id": "f5df97f9",
   "metadata": {
    "vscode": {
     "languageId": "r"
    }
   },
   "outputs": [],
   "source": [
    "n = \"Leaf\""
   ]
  },
  {
   "cell_type": "code",
   "execution_count": 3,
   "id": "19f44c68",
   "metadata": {
    "vscode": {
     "languageId": "r"
    }
   },
   "outputs": [],
   "source": [
    "bw_plus = BigWigFileList(paste(n,\"/PI46.\",n,\".plus.bw\",sep = \"\"))\n",
    "bw_minus = BigWigFileList(paste(n,\"/PI46.\",n,\".minus.bw\",sep = \"\"))\n",
    "names(bw_plus) = c(n)\n",
    "names(bw_minus) = c(n)\n"
   ]
  },
  {
   "cell_type": "code",
   "execution_count": null,
   "id": "6130351e",
   "metadata": {
    "vscode": {
     "languageId": "r"
    }
   },
   "outputs": [],
   "source": [
    "bw_plus[[1]]"
   ]
  },
  {
   "cell_type": "code",
   "execution_count": null,
   "id": "a9f6d39e",
   "metadata": {
    "vscode": {
     "languageId": "r"
    }
   },
   "outputs": [],
   "source": [
    "Gm <- seqinfo(bw_plus[[1]])\n",
    "Gm"
   ]
  },
  {
   "cell_type": "code",
   "execution_count": null,
   "id": "e0115ec5",
   "metadata": {
    "vscode": {
     "languageId": "r"
    }
   },
   "outputs": [],
   "source": [
    "CTSSs <- quantifyCTSSs(plusStrand=bw_plus,\n",
    "                       minusStrand=bw_minus,\n",
    "                       genome=Gm)\n",
    "TSSs <- quickTSSs(CTSSs)"
   ]
  },
  {
   "cell_type": "code",
   "execution_count": null,
   "id": "a8d0771e",
   "metadata": {
    "vscode": {
     "languageId": "r"
    }
   },
   "outputs": [],
   "source": [
    "\n",
    "txdb <- makeTxDbFromGFF(file=\"/Data6/wanjie/other_data_archives/STRIPE/PI46/genome/PI46.final.gff3\",\n",
    "                         #file=\"Gmax_merged.gff3\",\n",
    "                        format=\"gff3\",\n",
    "                        dataSource=\"gff for Gm\",\n",
    "                       organism=\"Glycine max\")"
   ]
  },
  {
   "cell_type": "code",
   "execution_count": null,
   "id": "7e1b9fab",
   "metadata": {
    "vscode": {
     "languageId": "r"
    }
   },
   "outputs": [],
   "source": [
    "# Annotate both TSSs and enhancers\n",
    "CTSSs <- assignTxType(CTSSs, txModels=txdb,\n",
    "                     outputColumn=\"txType\")\n",
    "#####\n",
    "CTSSs <- assignTxID(CTSSs,\n",
    "                   txModels=txdb,\n",
    "                   outputColumn=\"txID\")"
   ]
  },
  {
   "cell_type": "code",
   "execution_count": null,
   "id": "50ebb115",
   "metadata": {
    "vscode": {
     "languageId": "r"
    }
   },
   "outputs": [],
   "source": [
    "CTSSs <- calcTPM(CTSSs,\n",
    "                 inputAssay=\"counts\",\n",
    "                 outputAssay=\"TPM\",\n",
    "                 outputColumn=\"subsetTags\")"
   ]
  },
  {
   "cell_type": "code",
   "execution_count": null,
   "id": "f23665a9",
   "metadata": {
    "vscode": {
     "languageId": "r"
    }
   },
   "outputs": [],
   "source": [
    "CTSSs"
   ]
  },
  {
   "cell_type": "code",
   "execution_count": 12,
   "id": "33d93338",
   "metadata": {
    "vscode": {
     "languageId": "r"
    }
   },
   "outputs": [],
   "source": [
    "###export a table\n",
    "result <- data.frame(as.data.frame(CTSSs@rowRanges),\n",
    "                     as.data.frame(as.matrix(CTSSs@assays@data@listData$counts)),\n",
    "                    as.data.frame(as.matrix(CTSSs@assays@data@listData$TPM)))\n",
    "\n"
   ]
  },
  {
   "cell_type": "code",
   "execution_count": 13,
   "id": "4defa31c",
   "metadata": {
    "vscode": {
     "languageId": "r"
    }
   },
   "outputs": [],
   "source": [
    "write.table(result,\n",
    "            file= paste(\"./\",n,\"/CTSS_raw.txt\",sep=\"\"),\n",
    "            col.names=T,row.names=F,\n",
    "            sep=\"\\t\",quote=F)"
   ]
  },
  {
   "cell_type": "code",
   "execution_count": null,
   "id": "ecf9c5a1",
   "metadata": {
    "vscode": {
     "languageId": "r"
    }
   },
   "outputs": [],
   "source": [
    "CTSSs <- calcPooled(CTSSs, inputAssay=\"TPM\")\n",
    "rowRanges(CTSSs)"
   ]
  },
  {
   "cell_type": "code",
   "execution_count": null,
   "id": "01a193ed",
   "metadata": {
    "vscode": {
     "languageId": "r"
    }
   },
   "outputs": [],
   "source": [
    "CTSSs <- calcSupport(CTSSs,inputAssay=\"TPM\", \n",
    "                            outputColumn=\"support\", \n",
    "                            unexpressed=1)\n",
    "table(rowRanges(CTSSs)$support)"
   ]
  },
  {
   "cell_type": "code",
   "execution_count": null,
   "id": "320ca12d",
   "metadata": {
    "vscode": {
     "languageId": "r"
    }
   },
   "outputs": [],
   "source": [
    "## ----subset, tidy=FALSE-------------------------------------------------------\n",
    "supportedCTSSs <- subset(CTSSs, support > 0)\n",
    "#supportedCTSSs <- calcTPM(supportedCTSSs, totalTags=\"totalTags\")\n",
    "supportedCTSSs <- calcPooled(supportedCTSSs)"
   ]
  },
  {
   "cell_type": "code",
   "execution_count": 17,
   "id": "0a7430c7",
   "metadata": {
    "vscode": {
     "languageId": "r"
    }
   },
   "outputs": [],
   "source": [
    "result <-data.frame(as.data.frame(supportedCTSSs@rowRanges),\n",
    "                    as.data.frame(as.matrix(assay(supportedCTSSs,\"counts\"))),\n",
    "                    as.data.frame(as.matrix(assay(supportedCTSSs,\"TPM\"))))\n"
   ]
  },
  {
   "cell_type": "code",
   "execution_count": 18,
   "id": "05fca9b4",
   "metadata": {
    "vscode": {
     "languageId": "r"
    }
   },
   "outputs": [],
   "source": [
    "write.table(result,\n",
    "            file=paste(\"./\",n,\"/supportTSSs.txt\",sep=\"\"),\n",
    "            col.names=T,row.names=F,\n",
    "            sep=\"\\t\",quote=F)"
   ]
  },
  {
   "cell_type": "code",
   "execution_count": null,
   "id": "e81664d0",
   "metadata": {
    "vscode": {
     "languageId": "r"
    }
   },
   "outputs": [],
   "source": [
    "#change !!!\n",
    "prefiltered_TCs <- clusterUnidirectionally(supportedCTSSs, \n",
    "                                           pooledCutoff=0, \n",
    "                                           mergeDist=20)\n",
    "prefiltered_TCs"
   ]
  },
  {
   "cell_type": "code",
   "execution_count": null,
   "id": "977b3d5b",
   "metadata": {
    "vscode": {
     "languageId": "r"
    }
   },
   "outputs": [],
   "source": [
    "#potential change the sample number.\n",
    "sup_TSSs <- quantifyClusters(supportedCTSSs,\n",
    "                                      clusters=prefiltered_TCs,\n",
    "                                      inputAssay=\"counts\")\n",
    "sup_TSSs"
   ]
  },
  {
   "cell_type": "code",
   "execution_count": null,
   "id": "3defcdc6",
   "metadata": {
    "vscode": {
     "languageId": "r"
    }
   },
   "outputs": [],
   "source": [
    "## ----supportOnTPM, tidy=FALSE-------------------------------------------------\n",
    "# Calculate TPM using pre-calculated total tags:\n",
    "Unidirectional <- calcTPM(sup_TSSs,\n",
    "                          inputAssay=\"counts\", \n",
    "                          outputAssay=\"TPM\", \n",
    "                          outputColumn=\"subsetTags\")\n",
    "Unidirectional"
   ]
  },
  {
   "cell_type": "code",
   "execution_count": null,
   "id": "88d2e6ea",
   "metadata": {
    "vscode": {
     "languageId": "r"
    }
   },
   "outputs": [],
   "source": [
    "# Only TSSs expressed at more than 1 TPM in more than 2 samples\n",
    "#Unidirectional <- subsetBySupport(Unidirectional,\n",
    "#                                  inputAssay=\"TPM\",\n",
    "#                                  unexpressed=0,\n",
    "#                                  minSamples=2)\n",
    "#TSSs expressed at more than 0 TPM as least in 1 samples\n",
    "Unidirectional <- subsetBySupport(Unidirectional,\n",
    "                                     inputAssay=\"TPM\",\n",
    "                                     unexpressed=1,\n",
    "                                     minSamples=0)\n",
    "Unidirectional"
   ]
  },
  {
   "cell_type": "code",
   "execution_count": null,
   "id": "9c5255a2",
   "metadata": {
    "vscode": {
     "languageId": "r"
    }
   },
   "outputs": [],
   "source": [
    "## ----assignTxID, tidy=FALSE---------------------------------------------------\n",
    "Unidirectional <- assignTxID(Unidirectional,\n",
    "                            txModels=txdb,\n",
    "                            outputColumn=\"txID\")"
   ]
  },
  {
   "cell_type": "code",
   "execution_count": null,
   "id": "275cfc01",
   "metadata": {
    "vscode": {
     "languageId": "r"
    }
   },
   "outputs": [],
   "source": [
    "## ----multipleTxs, tidy=FALSE--------------------------------------------------\n",
    "rowRanges(Unidirectional)[5:6]\n",
    "#export(rowRanges(Unidirectional),\"TC.bed\",\"BED\")"
   ]
  },
  {
   "cell_type": "code",
   "execution_count": null,
   "id": "792a5661",
   "metadata": {
    "vscode": {
     "languageId": "r"
    }
   },
   "outputs": [],
   "source": [
    "## ----assignTxType, tidy=FALSE-------------------------------------------------\n",
    "Unidirectional <- assignTxType(Unidirectional,\n",
    "                              txModels=txdb,\n",
    "                              outputColumn=\"txType\")"
   ]
  },
  {
   "cell_type": "code",
   "execution_count": null,
   "id": "52b21636",
   "metadata": {
    "vscode": {
     "languageId": "r"
    }
   },
   "outputs": [],
   "source": [
    "## ----swappedTxType, tidy=FALSE------------------------------------------------\n",
    "Unidirectional <- assignTxType(Unidirectional,\n",
    "                              txModels=txdb,\n",
    "                              outputColumn=\"peakTxType\",\n",
    "                              swap=\"thick\")"
   ]
  },
  {
   "cell_type": "code",
   "execution_count": null,
   "id": "deae20f8",
   "metadata": {
    "vscode": {
     "languageId": "r"
    }
   },
   "outputs": [],
   "source": [
    "# Calculate shape\n",
    "Unidirectional <- calcShape(Unidirectional,\n",
    "                           pooled=supportedCTSSs,\n",
    "                           outputColumn = \"IQR\",\n",
    "                           shapeFunction = shapeIQR,\n",
    "                           lower=0.25, upper=0.75)\n",
    "Unidirectional\n",
    "Unidirectional <- calcShape(Unidirectional,\n",
    "                        pooled=supportedCTSSs,\n",
    "                        outputColumn = \"Entropy\",\n",
    "                        shapeFunction = shapeEntropy\n",
    "                        )\n",
    "Unidirectional"
   ]
  },
  {
   "cell_type": "code",
   "execution_count": null,
   "id": "8fbeac6b",
   "metadata": {
    "vscode": {
     "languageId": "r"
    }
   },
   "outputs": [],
   "source": [
    "## ----histIQR, tidy=FALSE------------------------------------------------------\n",
    "hist(rowRanges(Unidirectional)$IQR,\n",
    "     breaks=max(rowRanges(Unidirectional)$IQR),\n",
    "     xlim=c(0,50), \n",
    "     xlab = \"IQR\", \n",
    "     col=\"red\")\n",
    "\n",
    "hist(rowRanges(Unidirectional)$Entropy,\n",
    "     breaks=max(rowRanges(Unidirectional)$Entropy),\n",
    "     xlim=c(0,20), \n",
    "     xlab = \"Entropy\", \n",
    "     col=\"red\")"
   ]
  },
  {
   "cell_type": "code",
   "execution_count": 29,
   "id": "a8117f1a",
   "metadata": {
    "vscode": {
     "languageId": "r"
    }
   },
   "outputs": [],
   "source": [
    "## ----customShape, tidy=FALSE--------------------------------------------------\n",
    "# Write a function that quantifies the lean of a TSS\n",
    "\n",
    "TSRshapeIndex <- function(x) {\n",
    "  x <- as.vector(x)\n",
    "  tagcount <- sum(x)  \n",
    "  SI <- suppressWarnings(2+sum(ifelse(x > 0, (x/tagcount) * log2(x/tagcount), 0)))  \n",
    "  return(SI)\n",
    "}\n",
    "\n",
    "TSRshapeIndex <- function(x) {\n",
    "  x <- as.vector(x)\n",
    "  tagcount <- sum(x) \n",
    "  SI <- suppressWarnings(2+sum(ifelse(x > 0, (x/tagcount) * log2(x/tagcount), 0))) \n",
    "  return(SI)\n",
    "}\n",
    "\n",
    "TSRmshapeIndex <- function(x) {\n",
    "  x <- as.vector(x)\n",
    "  tagcount <- sum(x)\n",
    "  tsscount <- length(x)\n",
    "  mSI <- suppressWarnings(1+sum(ifelse((tsscount != 1 & x != 0), (x/tagcount) * log((x/tagcount))/log(tsscount), 0)))\n",
    "  return(mSI)\n",
    "}\n",
    "\n",
    "TSRshapiro <- function(x) {\n",
    "  x <- as.vector(x)\n",
    "  x[1]<-x[1]+0.0000001 \n",
    "  shapiro <-suppressWarnings(ifelse(length(x) >=3, shapiro.test(x)$p.value,0))\n",
    "  return(shapiro)\n",
    "}\n",
    "\n",
    "\n",
    "TSRdip <- function(x) {\n",
    "  x <- as.vector(x)\n",
    "  dip <-suppressWarnings(ifelse(length(x) >=3, dip.test(x)$p.value,1))\n",
    "  return(dip)\n",
    "}"
   ]
  },
  {
   "cell_type": "code",
   "execution_count": null,
   "id": "4b2f74e7",
   "metadata": {
    "vscode": {
     "languageId": "r"
    }
   },
   "outputs": [],
   "source": [
    "Unidirectional <- calcShape(Unidirectional,\n",
    "                    pooled=supportedCTSSs,\n",
    "                    outputColumn = \"SI\",\n",
    "                    shapeFunction = TSRshapeIndex)\n",
    "Unidirectional"
   ]
  },
  {
   "cell_type": "code",
   "execution_count": null,
   "id": "ef82c8fa",
   "metadata": {
    "vscode": {
     "languageId": "r"
    }
   },
   "outputs": [],
   "source": [
    "Unidirectional <- calcShape(Unidirectional,\n",
    "                        pooled=supportedCTSSs,\n",
    "                        outputColumn = \"mSI\",\n",
    "                        shapeFunction = TSRmshapeIndex)\n",
    "Unidirectional"
   ]
  },
  {
   "cell_type": "code",
   "execution_count": null,
   "id": "38c1934c",
   "metadata": {
    "vscode": {
     "languageId": "r"
    }
   },
   "outputs": [],
   "source": [
    "Unidirectional <- calcShape(Unidirectional,\n",
    "                        pooled=supportedCTSSs,\n",
    "                        outputColumn = \"shapiro\",\n",
    "                        shapeFunction = TSRshapiro)\n",
    "Unidirectional"
   ]
  },
  {
   "cell_type": "code",
   "execution_count": null,
   "id": "aacdae13",
   "metadata": {
    "vscode": {
     "languageId": "r"
    }
   },
   "outputs": [],
   "source": [
    "Unidirectional <- calcShape(Unidirectional,\n",
    "                        pooled=supportedCTSSs,\n",
    "                        outputColumn = \"Dip\",\n",
    "                        shapeFunction = TSRdip)\n",
    "Unidirectional"
   ]
  },
  {
   "cell_type": "code",
   "execution_count": null,
   "id": "477fb190",
   "metadata": {
    "vscode": {
     "languageId": "r"
    }
   },
   "outputs": [],
   "source": [
    "hist(rowRanges(Unidirectional)$SI,\n",
    "    # breaks=max(rowRanges(Unidirectional)$SI),\n",
    "     #  xlim=c(0,20), \n",
    "     xlab = \"SI\", \n",
    "     col=\"red\")"
   ]
  },
  {
   "cell_type": "code",
   "execution_count": 35,
   "id": "eb9964e9",
   "metadata": {
    "vscode": {
     "languageId": "r"
    }
   },
   "outputs": [],
   "source": [
    "result <- data.frame(as.data.frame(Unidirectional@rowRanges),\n",
    "                   as.data.frame(as.matrix(Unidirectional@assays@data@listData$counts)),\n",
    "                   as.data.frame(as.matrix(Unidirectional@assays@data@listData$TPM)))\n",
    "\n"
   ]
  },
  {
   "cell_type": "code",
   "execution_count": 36,
   "id": "d81a35b7",
   "metadata": {
    "vscode": {
     "languageId": "r"
    }
   },
   "outputs": [],
   "source": [
    "write.table(as.data.frame(result),\n",
    "            file=paste(\"./\",n,\"/Unidirection_result.txt\",sep = \"\"),\n",
    "            col.names=T,row.names=F,\n",
    "            sep=\"\\t\",quote=F)"
   ]
  },
  {
   "cell_type": "code",
   "execution_count": null,
   "id": "fd3c623c",
   "metadata": {
    "vscode": {
     "languageId": "r"
    }
   },
   "outputs": [],
   "source": [
    "BCs <- clusterBidirectionally(supportedCTSSs, balanceThreshold=0)#0.95"
   ]
  },
  {
   "cell_type": "code",
   "execution_count": null,
   "id": "23e6cae4",
   "metadata": {
    "vscode": {
     "languageId": "r"
    }
   },
   "outputs": [],
   "source": [
    "BCs <- calcBidirectionality(BCs, samples=supportedCTSSs)\n",
    "\n",
    "BCs <- quantifyClusters(supportedCTSSs,\n",
    "                        clusters=BCs,\n",
    "                        inputAssay=\"counts\")\n",
    "\n",
    "BCs <- subsetBySupport(BCs,\n",
    "                       inputAssay=\"counts\",\n",
    "                       unexpressed=0,\n",
    "                       minSamples=0)"
   ]
  },
  {
   "cell_type": "code",
   "execution_count": null,
   "id": "eea66a94",
   "metadata": {
    "vscode": {
     "languageId": "r"
    }
   },
   "outputs": [],
   "source": [
    "Bidirectional <- calcTPM(BCs,\n",
    "                         inputAssay=\"counts\", \n",
    "                         outputAssay=\"TPM\", \n",
    "                         outputColumn=\"subsetTags\")\n",
    "\n",
    "Bidirectional <- subsetBySupport(Bidirectional,\n",
    "                                 inputAssay=\"TPM\",\n",
    "                                 unexpressed=1,\n",
    "                                 minSamples=0)\n",
    "\n",
    "Bidirectional <- assignTxType(Bidirectional,\n",
    "                              txModels=txdb,\n",
    "                              outputColumn=\"txType\")\n",
    "\n",
    "Bidirectional <- assignTxID(Bidirectional,\n",
    "                            txModels=txdb,\n",
    "                            outputColumn=\"txID\")"
   ]
  },
  {
   "cell_type": "code",
   "execution_count": 40,
   "id": "30347995",
   "metadata": {
    "vscode": {
     "languageId": "r"
    }
   },
   "outputs": [],
   "source": [
    "# Only keep intronic and intergenic enhancers\n",
    "#Bidirectional <- subset(Bidirectional,\n",
    "#                               txType %in% c(\"intron\", \"intergenic\"))\n",
    "result<-data.frame(as.data.frame(Bidirectional@rowRanges),\n",
    "                   as.data.frame(as.matrix(Bidirectional@assays@data@listData$counts)),\n",
    "                   as.data.frame(as.matrix(Bidirectional@assays@data@listData$TPM)))\n",
    "\n"
   ]
  },
  {
   "cell_type": "code",
   "execution_count": 41,
   "id": "da84b78d",
   "metadata": {
    "vscode": {
     "languageId": "r"
    }
   },
   "outputs": [],
   "source": [
    "write.table(as.data.frame(result),\n",
    "            file = paste(\"./\",n,\"/Bidirection_result.txt\",sep=\"\"),\n",
    "            col.names=T,row.names=F,\n",
    "            sep=\"\\t\",quote=F)\n"
   ]
  },
  {
   "cell_type": "code",
   "execution_count": null,
   "id": "90020ea1",
   "metadata": {
    "vscode": {
     "languageId": "r"
    }
   },
   "outputs": [],
   "source": []
  }
 ],
 "metadata": {
  "kernelspec": {
   "display_name": "R",
   "language": "R",
   "name": "ir"
  },
  "language_info": {
   "codemirror_mode": "r",
   "file_extension": ".r",
   "mimetype": "text/x-r-source",
   "name": "R",
   "pygments_lexer": "r",
   "version": "4.3.1"
  }
 },
 "nbformat": 4,
 "nbformat_minor": 5
}
